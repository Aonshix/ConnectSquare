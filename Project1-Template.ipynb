{
 "cells": [
  {
   "cell_type": "markdown",
   "id": "8cc5a740",
   "metadata": {},
   "source": [
    "## Task 1 (6 marks)\n",
    "In order to begin playing this game, we require a function that can update the game state after a move has been made.  Write a function ``add_coin(board, coin, column)``.  This function should take the following parameters:\n",
    "- ``board``: A list of lists representing the current state of the board\n",
    "- ``coin``: The character representing the current player's coin, i.e. 'R' or 'Y'\n",
    "- ``column``: An integer representing the column in which the player is inserting their coin, with 0 representing the left-most column in the grid.  You may assume that a value greater than the maximum number of columns in the grid will never be entered.\n",
    "Your function should return a list of lists representing the new state of the board after the coin has been played.\n",
    "\n",
    "Here are some examples you can use to call your function\n",
    "```python\n",
    "add_coin([[0,0,0,0],[0,0,0,0],[0,0,0,0],[0,0,0,0]], 'R', 2)\n",
    ">>> [[0, 0, 0, 0], [0, 0, 0, 0], [0, 0, 0, 0], [0, 0, 'R', 0]]\n",
    "add_coin([[0,0,0,0,0],[0,0,0,0,0],['R',0,0,0,0],['Y','R',0,'R','Y']], 'Y', 1)\n",
    ">>> [[0, 0, 0, 0, 0],\n",
    " [0, 0, 0, 0, 0],\n",
    " ['R', 'Y', 0, 0, 0],\n",
    " ['Y', 'R', 0, 'R', 'Y']]\n",
    "```"
   ]
  },
  {
   "cell_type": "code",
   "execution_count": null,
   "id": "b6f0001a",
   "metadata": {},
   "outputs": [],
   "source": [
    "def add_coin(board, coin, column) :\n",
    "\"\"\"\n",
    "Complete your function here\n",
    "\"\"\""
   ]
  },
  {
   "cell_type": "markdown",
   "id": "7ca38939",
   "metadata": {},
   "source": [
    "## Task 2 (6 marks)\n",
    "To ascertain whether the game is finished, we need a function to determine whether a particular player has won.  Write a function ``is_winner(board, coin)``.  This function should take the following parameters:\n",
    "- ``board``: A list of lists representing the current state of the board\n",
    "- ``coin``: The character representing the current player's coin, i.e. 'R' or 'Y'\n",
    "Your function should return ``True`` if the player using the ``coin`` coins has won the game in the current board position and ``False`` otherwise.\n",
    "\n",
    "Here are some examples you can use to call your function:\n",
    "```python\n",
    "is_winner([[0,0,0,0,0],[0,0,0,0,0],['R',0,0,0,0],['Y','R',0,'R','Y']], 'Y')\n",
    ">>> False\n",
    "is_winner([['Y',0,0,0],['Y',0,0,0],['Y',0,'R','R'],['Y',0,'R','R']], 'R')\n",
    ">>> True\n",
    "```"
   ]
  },
  {
   "cell_type": "code",
   "execution_count": null,
   "id": "77554cbf",
   "metadata": {},
   "outputs": [],
   "source": [
    "def is_winner(board, coin) :\n",
    "\"\"\"\n",
    "Complete your function here\n",
    "\"\"\"\n",
    "        "
   ]
  },
  {
   "cell_type": "markdown",
   "id": "47796950",
   "metadata": {},
   "source": [
    "## Task 3 (9 marks)\n",
    "With these essential functions in place, we now wish to work towards building a competent AI to play our Connect Square game.  The concept of a <i>heuristic</i> is central to building an AI for most strategy games.  A heuristic is a function that maps a particular game state to a numeric value, indicating how desirable that state is to a particular player.  For example, a game state in which the player is about to win could be assigned a very high heuristic value, while a game state in which the player is about to lose could be assigned a very low value.\n",
    "\n",
    "There are numerous ways in which we can define a heuristic for any particular game, but we will adopt the following approach:\n",
    "- We will consider each overlapping 2 x 2 square within the grid.  For example, the points (0,0), (0, 1), (1, 0) and (1,1) will represent one square.  (1,0), (1, 1), (2, 0) and (2,1) will represent a second square and so on.\n",
    "- Consider the four points making up each square:\n",
    "\n",
    "\t-  If any one of those points contains an opponent's coin, it will be impossible to win the game by filling this square with our own coins and the square will therefore be assigned a value of 0.  \n",
    "\t- If one of the points contains our coin and the other three are empty the square will be assigned a value of 1. \n",
    "\t- If two of the points contain our coins and the other two points are empty then the square will be assigned a value of 10.\n",
    "\t- If three of the points contain our coins and the other one is empty then the square will be assigned a value of 100.\n",
    "\t- If all four of the points contain our coins then we have won the game and the square will be assigned a value of 1000.\n",
    "- The heuristic value for this game state is the sum of the value of each square in the grid.\n",
    "Note that there are some drawbacks to using this heuristic.  In particular, we don't consider how close our opponent is to completing a square so an AI that uses this heuristic will not try to prevent an opponent from completing his square.  You might like to consider how you could improve upon this heuristic, but for this task you should implement the heuristic as described.  Write a function ``heuristic(board, coin)`` that returns the heuristic value of the ``board`` for the player using the ``coin`` coins.\n",
    "\n",
    "Here are some examples you can use to call your function:\n",
    "\n",
    "```python\n",
    "heuristic([[0,0,0,0,0],[0,0,0,0,0],['R',0,0,0,0],['Y','R',0,'R','Y']], 'R')\n",
    ">>> 3\n",
    "heuristic([['Y',0,0,0],['Y',0,0,0],['Y',0,'R','R'],['Y',0,'R','R']], 'R')\n",
    ">>> 1021\n",
    "```"
   ]
  },
  {
   "cell_type": "code",
   "execution_count": null,
   "id": "e26eb1f1",
   "metadata": {},
   "outputs": [],
   "source": [
    "def heuristic(board, coin) :\n",
    "\"\"\"\n",
    "Complete your function here\n",
    "\"\"\""
   ]
  },
  {
   "cell_type": "markdown",
   "id": "f42b38b3",
   "metadata": {},
   "source": [
    "## Task 4 (9 marks)\n",
    "We now wish to create an AI player capable of playing (and hopefully winning) our Connect Square game.  Write a function ``ai_move(board, coin)`` to play the Connect Square game.  Your function should generate a list of all possible moves from the current ``board``.  Your function should then generate the board states that arise from making each of these moves and select the move that results in the state with the highest heuristic value.  If two states have the same heuristic value, then select the one that results from the using the numerically lowest column (e.g. column 1 is preferred over column 2 if the heuristic values are identical).  Finally, your function should return the new board state after applying the best move.\n",
    "\n",
    "Here are some examples you can use to call your function:\n",
    "\n",
    "```python\n",
    "ai_move([[0,0,0,0,0],[0,0,0,0,0],['R',0,0,0,0],['Y','R',0,'R','Y']], 'Y')\n",
    ">>> [[0, 0, 0, 0, 0],\n",
    " [0, 0, 0, 0, 0],\n",
    " ['R', 0, 0, 'Y', 0],\n",
    " ['Y', 'R', 0, 'R', 'Y']]\n",
    "ai_move([[0,0,0,0,0],['Y',0,0,0,0],['R',0,0,0,'Y'],['Y','R',0,'R','Y']], 'Y')\n",
    ">>> [[0, 0, 0, 0, 0],\n",
    " ['Y', 0, 0, 0, 0],\n",
    " ['R', 0, 0, 'Y', 'Y'],\n",
    " ['Y', 'R', 0, 'R', 'Y']]\n",
    "```"
   ]
  },
  {
   "cell_type": "code",
   "execution_count": null,
   "id": "edb7a841",
   "metadata": {},
   "outputs": [],
   "source": [
    "def ai_move(board, coin) :\n",
    "\"\"\"\n",
    "Complete your function here\n",
    "\"\"\""
   ]
  },
  {
   "cell_type": "markdown",
   "id": "0932d057",
   "metadata": {},
   "source": [
    "## Code to run your game\n",
    "The following functions will allow you to play a game against your AI.  This may be useful when debugging."
   ]
  },
  {
   "cell_type": "code",
   "execution_count": null,
   "id": "557c4edd",
   "metadata": {},
   "outputs": [],
   "source": [
    "def moves_exist(board) :\n",
    "    \"\"\"\n",
    "    A move can still be made if any blank space exists on the top row\n",
    "    \"\"\"\n",
    "    if 0 in board[0] :\n",
    "        return True\n",
    "    return False\n",
    "\n",
    "def nice_print(board) :\n",
    "    \"\"\"\n",
    "    Formats the board for nicer display\n",
    "    \"\"\"\n",
    "    for line in board :\n",
    "        print(*line)\n",
    "    \n",
    "def play_game(rows, cols) :\n",
    "    \"\"\"\n",
    "    Plays a game with a human player against your AI\n",
    "    \"\"\"\n",
    "    # Instantiate an empty board\n",
    "    board = [([0]*cols) for i in range(rows)]\n",
    "\n",
    "    # Continue playing as long as a legal move can still be made\n",
    "    while(moves_exist(board)) :\n",
    "\n",
    "        # AI plays first with the red tokens\n",
    "        board = ai_move(board, 'R')\n",
    "        nice_print(board)\n",
    "\n",
    "        # Check if the AI Player has won the game\n",
    "        if (is_winner(board, 'R')) :\n",
    "            print('AI Wins!')\n",
    "            break\n",
    "\n",
    "        # Player moves next with the yellow tokens\n",
    "        player_move = input('Enter your move: ')\n",
    "        board = add_coin(board, 'Y', int(player_move))\n",
    "        if (is_winner(board, 'Y')) :\n",
    "            print('You win!')\n",
    "            break"
   ]
  },
  {
   "cell_type": "code",
   "execution_count": null,
   "id": "59561667",
   "metadata": {},
   "outputs": [],
   "source": [
    "# Call play_game to play against your AI.  Useful for testing your code.\n",
    "play_game(5,7)"
   ]
  },
  {
   "cell_type": "code",
   "execution_count": null,
   "id": "c27d1a89",
   "metadata": {},
   "outputs": [],
   "source": []
  }
 ],
 "metadata": {
  "kernelspec": {
   "display_name": "Python 3 (ipykernel)",
   "language": "python",
   "name": "python3"
  },
  "language_info": {
   "codemirror_mode": {
    "name": "ipython",
    "version": 3
   },
   "file_extension": ".py",
   "mimetype": "text/x-python",
   "name": "python",
   "nbconvert_exporter": "python",
   "pygments_lexer": "ipython3",
   "version": "3.7.3"
  }
 },
 "nbformat": 4,
 "nbformat_minor": 5
}
